{
 "cells": [
  {
   "cell_type": "markdown",
   "id": "c4092ab8-c6b8-4f78-be48-82a6d5ba86b6",
   "metadata": {},
   "source": [
    "# Data Science Tools and Libraries\n"
   ]
  },
  {
   "cell_type": "markdown",
   "id": "22c5f100-d20d-4ef7-8a59-99716fc89e76",
   "metadata": {},
   "source": [
    "This notebook introduces some of the most commonly used tools, libraries, and languages in data science.\n"
   ]
  },
  {
   "cell_type": "markdown",
   "id": "d35bbc13-4134-47f9-a352-d9ef2fcc5813",
   "metadata": {},
   "source": [
    "## Data Science Languages\n",
    "- Python\n",
    "- R\n",
    "- SQL\n",
    "- Julia\n",
    "- Scala\n"
   ]
  },
  {
   "cell_type": "markdown",
   "id": "715a51fb-84d8-4f47-b8b6-e93edf712421",
   "metadata": {},
   "source": [
    "## Data Science Libraries\n",
    "- NumPy\n",
    "- Pandas\n",
    "- Matplotlib\n",
    "- Scikit-learn\n",
    "- TensorFlow\n",
    "- PyTorch\n"
   ]
  },
  {
   "cell_type": "markdown",
   "id": "d1a1b191-d211-44a2-b587-c005b74b3721",
   "metadata": {},
   "source": [
    "## Data Science Tools\n",
    "| Tool          | Description                      |\n",
    "|---------------|----------------------------------|\n",
    "| Jupyter       | Interactive computing notebook  |\n",
    "| RStudio       | IDE for R programming           |\n",
    "| Apache Spark  | Big data processing framework   |\n",
    "| Tableau       | Data visualization tool         |\n"
   ]
  },
  {
   "cell_type": "markdown",
   "id": "8344b5cc-81df-4e93-ab16-f033a502dbb7",
   "metadata": {},
   "source": [
    "\n",
    "## Arithmetic Expressions\n",
    "Arithmetic expressions are often used in data science to perform basic calculations such as addition, subtraction, multiplication, and division.\n",
    "\n"
   ]
  },
  {
   "cell_type": "code",
   "execution_count": 1,
   "id": "5a3ef556-136e-466e-a9a5-72affe88d3a6",
   "metadata": {},
   "outputs": [
    {
     "name": "stdout",
     "output_type": "stream",
     "text": [
      "Sum: 12\n",
      "Product: 35\n"
     ]
    }
   ],
   "source": [
    "# Example: Addition and Multiplication\n",
    "sum_result = 7 + 5\n",
    "product_result = 7 * 5\n",
    "print(\"Sum:\", sum_result)\n",
    "print(\"Product:\", product_result)\n"
   ]
  },
  {
   "cell_type": "code",
   "execution_count": 2,
   "id": "5c3160ec-e0ca-4394-b14c-b5180dd774a5",
   "metadata": {},
   "outputs": [
    {
     "name": "stdout",
     "output_type": "stream",
     "text": [
      "150 minutes is equal to 2.5 hours.\n"
     ]
    }
   ],
   "source": [
    "# Example: Convert Minutes to Hours\n",
    "minutes = 150\n",
    "hours = minutes / 60\n",
    "print(f\"{minutes} minutes is equal to {hours} hours.\")\n"
   ]
  },
  {
   "cell_type": "markdown",
   "id": "9a148e29-05d3-4769-8e60-de0e24b354a6",
   "metadata": {},
   "source": [
    "## Objectives\n",
    "- Learn about data science tools and libraries.\n",
    "- Understand common programming languages in data science.\n",
    "- Perform basic arithmetic operations.\n"
   ]
  },
  {
   "cell_type": "markdown",
   "id": "4a10a9b1-641b-437b-afc3-5f6395478162",
   "metadata": {},
   "source": [
    "## Author\n",
    "- Name: [Taha Turkmen]\n",
    "- Contact: [taha.turkmen@bahcesehir.edu.tr]\n"
   ]
  },
  {
   "cell_type": "code",
   "execution_count": null,
   "id": "b64be0c9-fc0c-4f7d-967c-12efacef5604",
   "metadata": {},
   "outputs": [],
   "source": []
  }
 ],
 "metadata": {
  "kernelspec": {
   "display_name": "Python 3 (ipykernel)",
   "language": "python",
   "name": "python3"
  },
  "language_info": {
   "codemirror_mode": {
    "name": "ipython",
    "version": 3
   },
   "file_extension": ".py",
   "mimetype": "text/x-python",
   "name": "python",
   "nbconvert_exporter": "python",
   "pygments_lexer": "ipython3",
   "version": "3.11.9"
  }
 },
 "nbformat": 4,
 "nbformat_minor": 5
}
